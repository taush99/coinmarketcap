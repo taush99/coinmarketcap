{
 "cells": [
  {
   "cell_type": "code",
   "execution_count": 19,
   "metadata": {},
   "outputs": [],
   "source": [
    "import sqlite3\n",
    "con = sqlite3.connect('coin.db')\n",
    "cursorObj = con.cursor()\n",
    "cursorObj.execute(\"CREATE TABLE IF NOT EXISTS coin(id INTEGER PRIMARY KEY, symbol TEXT, amount INTEGER, price REAL)\")\n",
    "con.commit()"
   ]
  },
  {
   "cell_type": "code",
   "execution_count": 20,
   "metadata": {},
   "outputs": [],
   "source": [
    "import pandas as pd"
   ]
  },
  {
   "cell_type": "code",
   "execution_count": 16,
   "metadata": {},
   "outputs": [
    {
     "name": "stdout",
     "output_type": "stream",
     "text": [
      "[(1, 'BTC', 2, 3250.0), (2, 'BNB', 5, 10.0), (4, 'ETH', 1, 140.0), (5, 'XMR', 5, 45.0), (6, 'XRP', 5, 0.2), (7, '', '', '')]\n"
     ]
    }
   ],
   "source": [
    "cursorObj.execute(\"SELECT * FROM coin\")\n",
    "coins = cursorObj.fetchall()\n",
    "print(coins)"
   ]
  },
  {
   "cell_type": "code",
   "execution_count": 7,
   "metadata": {},
   "outputs": [],
   "source": [
    "import requests\n",
    "import json"
   ]
  },
  {
   "cell_type": "code",
   "execution_count": 9,
   "metadata": {},
   "outputs": [],
   "source": [
    "api_request = requests.get(\"https://pro-api.coinmarketcap.com/v1/cryptocurrency/listings/latest?start=1&limit=300&convert=USD&CMC_PRO_API_KEY=c6e4c7e0-6413-44dd-85b2-9c145a762d4c\")\n",
    "api = json.loads(api_request.content)\n"
   ]
  },
  {
   "cell_type": "code",
   "execution_count": 50,
   "metadata": {},
   "outputs": [
    {
     "name": "stdout",
     "output_type": "stream",
     "text": [
      "{'USD': {'price': 31241.892224520365, 'volume_24h': 67564480207.633865, 'percent_change_1h': -1.14939104, 'percent_change_24h': -1.56937486, 'percent_change_7d': -10.12596139, 'percent_change_30d': 18.54554912, 'market_cap': 581490281382.9453, 'last_updated': '2021-01-28T07:54:02.000Z'}}\n"
     ]
    }
   ],
   "source": [
    "print(api[\"data\"][0][\"quote\"])\n"
   ]
  },
  {
   "cell_type": "code",
   "execution_count": 34,
   "metadata": {},
   "outputs": [],
   "source": [
    "table = pd.DataFrame(api[\"data\"][1][\"quote\"],columns=api[\"data\"][1][\"quote\"])"
   ]
  },
  {
   "cell_type": "code",
   "execution_count": 35,
   "metadata": {},
   "outputs": [
    {
     "data": {
      "text/html": [
       "<div>\n",
       "<style scoped>\n",
       "    .dataframe tbody tr th:only-of-type {\n",
       "        vertical-align: middle;\n",
       "    }\n",
       "\n",
       "    .dataframe tbody tr th {\n",
       "        vertical-align: top;\n",
       "    }\n",
       "\n",
       "    .dataframe thead th {\n",
       "        text-align: right;\n",
       "    }\n",
       "</style>\n",
       "<table border=\"1\" class=\"dataframe\">\n",
       "  <thead>\n",
       "    <tr style=\"text-align: right;\">\n",
       "      <th></th>\n",
       "      <th>USD</th>\n",
       "    </tr>\n",
       "  </thead>\n",
       "  <tbody>\n",
       "    <tr>\n",
       "      <th>0</th>\n",
       "      <td>2021-01-28T07:54:02.000Z</td>\n",
       "    </tr>\n",
       "    <tr>\n",
       "      <th>1</th>\n",
       "      <td>1.47493e+11</td>\n",
       "    </tr>\n",
       "    <tr>\n",
       "      <th>2</th>\n",
       "      <td>-0.453885</td>\n",
       "    </tr>\n",
       "    <tr>\n",
       "      <th>3</th>\n",
       "      <td>-0.487348</td>\n",
       "    </tr>\n",
       "    <tr>\n",
       "      <th>4</th>\n",
       "      <td>82.1719</td>\n",
       "    </tr>\n",
       "    <tr>\n",
       "      <th>5</th>\n",
       "      <td>-1.78546</td>\n",
       "    </tr>\n",
       "    <tr>\n",
       "      <th>6</th>\n",
       "      <td>1288.9</td>\n",
       "    </tr>\n",
       "    <tr>\n",
       "      <th>7</th>\n",
       "      <td>4.04889e+10</td>\n",
       "    </tr>\n",
       "    <tr>\n",
       "      <th>8</th>\n",
       "      <td>{'price': 1.00098823453909, 'volume_24h': 1116...</td>\n",
       "    </tr>\n",
       "  </tbody>\n",
       "</table>\n",
       "</div>"
      ],
      "text/plain": [
       "                                                 USD\n",
       "0                           2021-01-28T07:54:02.000Z\n",
       "1                                        1.47493e+11\n",
       "2                                          -0.453885\n",
       "3                                          -0.487348\n",
       "4                                            82.1719\n",
       "5                                           -1.78546\n",
       "6                                             1288.9\n",
       "7                                        4.04889e+10\n",
       "8  {'price': 1.00098823453909, 'volume_24h': 1116..."
      ]
     },
     "execution_count": 35,
     "metadata": {},
     "output_type": "execute_result"
    }
   ],
   "source": [
    "table.append(api[\"data\"][2][\"quote\"],ignore_index=True)"
   ]
  },
  {
   "cell_type": "code",
   "execution_count": 39,
   "metadata": {},
   "outputs": [],
   "source": [
    "table = pd.DataFrame(api[\"data\"])"
   ]
  },
  {
   "cell_type": "code",
   "execution_count": 48,
   "metadata": {
    "scrolled": true
   },
   "outputs": [
    {
     "data": {
      "text/plain": [
       "31241.892224520365"
      ]
     },
     "execution_count": 48,
     "metadata": {},
     "output_type": "execute_result"
    }
   ],
   "source": [
    "api[\"data\"][0][\"quote\"][\"USD\"][\"price\"]"
   ]
  },
  {
   "cell_type": "code",
   "execution_count": 67,
   "metadata": {},
   "outputs": [],
   "source": [
    "con = sqlite3.connect('coin.db')\n",
    "cursorObj = con.cursor()\n",
    "cursorObj.execute(\"DROP TABLE IF EXISTS coin_data;\")\n",
    "cursorObj.execute(\"CREATE TABLE IF NOT EXISTS coin_data(id INTEGER PRIMARY KEY, symbol TEXT, price REAL, market_cap REAL, volume_24h REAL)\")\n",
    "con.commit()\n",
    "\n",
    "for i in range(0, 300):\n",
    "    symbol = api[\"data\"][i][\"symbol\"]\n",
    "    current_price = api[\"data\"][i][\"quote\"][\"USD\"][\"price\"]\n",
    "    market_cap = api[\"data\"][i][\"quote\"][\"USD\"][\"market_cap\"]\n",
    "    volume_24h = api[\"data\"][i][\"quote\"][\"USD\"][\"volume_24h\"]\n",
    "    cursorObj.execute(\"INSERT INTO coin_data(symbol, price, market_cap, volume_24h) VALUES(?, ?, ?, ?)\", (symbol, current_price, market_cap, volume_24h))\n",
    "    con.commit()\n",
    "                                       \n",
    "cursorObj.close()\n",
    "con.close()                  "
   ]
  },
  {
   "cell_type": "code",
   "execution_count": 74,
   "metadata": {},
   "outputs": [
    {
     "data": {
      "text/html": [
       "<div>\n",
       "<style scoped>\n",
       "    .dataframe tbody tr th:only-of-type {\n",
       "        vertical-align: middle;\n",
       "    }\n",
       "\n",
       "    .dataframe tbody tr th {\n",
       "        vertical-align: top;\n",
       "    }\n",
       "\n",
       "    .dataframe thead th {\n",
       "        text-align: right;\n",
       "    }\n",
       "</style>\n",
       "<table border=\"1\" class=\"dataframe\">\n",
       "  <thead>\n",
       "    <tr style=\"text-align: right;\">\n",
       "      <th></th>\n",
       "      <th>0</th>\n",
       "      <th>1</th>\n",
       "      <th>2</th>\n",
       "      <th>3</th>\n",
       "      <th>4</th>\n",
       "    </tr>\n",
       "  </thead>\n",
       "  <tbody>\n",
       "    <tr>\n",
       "      <th>0</th>\n",
       "      <td>1</td>\n",
       "      <td>BTC</td>\n",
       "      <td>31241.892225</td>\n",
       "      <td>5.814903e+11</td>\n",
       "      <td>6.756448e+10</td>\n",
       "    </tr>\n",
       "    <tr>\n",
       "      <th>1</th>\n",
       "      <td>2</td>\n",
       "      <td>ETH</td>\n",
       "      <td>1288.895004</td>\n",
       "      <td>1.474932e+11</td>\n",
       "      <td>4.048891e+10</td>\n",
       "    </tr>\n",
       "    <tr>\n",
       "      <th>2</th>\n",
       "      <td>3</td>\n",
       "      <td>USDT</td>\n",
       "      <td>1.000988</td>\n",
       "      <td>2.542699e+10</td>\n",
       "      <td>1.116697e+11</td>\n",
       "    </tr>\n",
       "    <tr>\n",
       "      <th>3</th>\n",
       "      <td>4</td>\n",
       "      <td>DOT</td>\n",
       "      <td>16.463206</td>\n",
       "      <td>1.497170e+10</td>\n",
       "      <td>3.209655e+09</td>\n",
       "    </tr>\n",
       "    <tr>\n",
       "      <th>4</th>\n",
       "      <td>5</td>\n",
       "      <td>XRP</td>\n",
       "      <td>0.257028</td>\n",
       "      <td>1.167010e+10</td>\n",
       "      <td>2.979259e+09</td>\n",
       "    </tr>\n",
       "    <tr>\n",
       "      <th>...</th>\n",
       "      <td>...</td>\n",
       "      <td>...</td>\n",
       "      <td>...</td>\n",
       "      <td>...</td>\n",
       "      <td>...</td>\n",
       "    </tr>\n",
       "    <tr>\n",
       "      <th>295</th>\n",
       "      <td>296</td>\n",
       "      <td>BTU</td>\n",
       "      <td>0.517787</td>\n",
       "      <td>4.660830e+07</td>\n",
       "      <td>4.918038e+04</td>\n",
       "    </tr>\n",
       "    <tr>\n",
       "      <th>296</th>\n",
       "      <td>297</td>\n",
       "      <td>SNL</td>\n",
       "      <td>0.068463</td>\n",
       "      <td>4.646351e+07</td>\n",
       "      <td>8.021214e+05</td>\n",
       "    </tr>\n",
       "    <tr>\n",
       "      <th>297</th>\n",
       "      <td>298</td>\n",
       "      <td>LON</td>\n",
       "      <td>5.755002</td>\n",
       "      <td>4.524856e+07</td>\n",
       "      <td>7.355223e+07</td>\n",
       "    </tr>\n",
       "    <tr>\n",
       "      <th>298</th>\n",
       "      <td>299</td>\n",
       "      <td>CENNZ</td>\n",
       "      <td>0.037148</td>\n",
       "      <td>4.457778e+07</td>\n",
       "      <td>1.331886e+06</td>\n",
       "    </tr>\n",
       "    <tr>\n",
       "      <th>299</th>\n",
       "      <td>300</td>\n",
       "      <td>PCX</td>\n",
       "      <td>5.557258</td>\n",
       "      <td>4.292065e+07</td>\n",
       "      <td>4.097500e+06</td>\n",
       "    </tr>\n",
       "  </tbody>\n",
       "</table>\n",
       "<p>300 rows × 5 columns</p>\n",
       "</div>"
      ],
      "text/plain": [
       "       0      1             2             3             4\n",
       "0      1    BTC  31241.892225  5.814903e+11  6.756448e+10\n",
       "1      2    ETH   1288.895004  1.474932e+11  4.048891e+10\n",
       "2      3   USDT      1.000988  2.542699e+10  1.116697e+11\n",
       "3      4    DOT     16.463206  1.497170e+10  3.209655e+09\n",
       "4      5    XRP      0.257028  1.167010e+10  2.979259e+09\n",
       "..   ...    ...           ...           ...           ...\n",
       "295  296    BTU      0.517787  4.660830e+07  4.918038e+04\n",
       "296  297    SNL      0.068463  4.646351e+07  8.021214e+05\n",
       "297  298    LON      5.755002  4.524856e+07  7.355223e+07\n",
       "298  299  CENNZ      0.037148  4.457778e+07  1.331886e+06\n",
       "299  300    PCX      5.557258  4.292065e+07  4.097500e+06\n",
       "\n",
       "[300 rows x 5 columns]"
      ]
     },
     "execution_count": 74,
     "metadata": {},
     "output_type": "execute_result"
    }
   ],
   "source": [
    "con = sqlite3.connect('coin.db')\n",
    "cursorObj = con.cursor()\n",
    "cursorObj.execute(\"SELECT * FROM coin_data\")\n",
    "coins = cursorObj.fetchall()\n",
    "pd_frame = pd.DataFrame(coins)\n",
    "pd_frame"
   ]
  },
  {
   "cell_type": "code",
   "execution_count": null,
   "metadata": {},
   "outputs": [],
   "source": []
  }
 ],
 "metadata": {
  "kernelspec": {
   "display_name": "Python 3",
   "language": "python",
   "name": "python3"
  },
  "language_info": {
   "codemirror_mode": {
    "name": "ipython",
    "version": 3
   },
   "file_extension": ".py",
   "mimetype": "text/x-python",
   "name": "python",
   "nbconvert_exporter": "python",
   "pygments_lexer": "ipython3",
   "version": "3.8.5"
  }
 },
 "nbformat": 4,
 "nbformat_minor": 4
}
